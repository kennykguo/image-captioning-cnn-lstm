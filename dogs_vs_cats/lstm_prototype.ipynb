{
 "cells": [
  {
   "cell_type": "code",
   "execution_count": null,
   "id": "ec669662-f83f-4d2f-89f9-d79154328d13",
   "metadata": {},
   "outputs": [],
   "source": [
    "# def clean_text(sentence):\n",
    "#     sentence = sentence.lower()\n",
    "#     sentence = re.sub('[^a-z]+',' ', sentence)\n",
    "#     sentence = sentence.split()\n",
    "#     sentence = [s for s in sentence if len(s) > 1]\n",
    "#     sentence = ' '.join(sentence)\n",
    "#     return sentence"
   ]
  },
  {
   "cell_type": "code",
   "execution_count": null,
   "id": "c3f88640-397e-4b36-b67d-0ac7a0fc1953",
   "metadata": {},
   "outputs": [],
   "source": [
    "# Remove words that are too unique (less than 10 instances)"
   ]
  },
  {
   "cell_type": "code",
   "execution_count": null,
   "id": "412e2246-647b-43e0-a1d6-865b0df1f86a",
   "metadata": {},
   "outputs": [],
   "source": [
    "# max_sentence_length, min_sentence_length considerations (may need to add padding)"
   ]
  },
  {
   "cell_type": "code",
   "execution_count": null,
   "id": "2c38518e-b35a-4f66-9966-d5c22cea890a",
   "metadata": {},
   "outputs": [],
   "source": [
    "# start and end tokens"
   ]
  }
 ],
 "metadata": {
  "kernelspec": {
   "display_name": "Python 3 (ipykernel)",
   "language": "python",
   "name": "python3"
  },
  "language_info": {
   "codemirror_mode": {
    "name": "ipython",
    "version": 3
   },
   "file_extension": ".py",
   "mimetype": "text/x-python",
   "name": "python",
   "nbconvert_exporter": "python",
   "pygments_lexer": "ipython3",
   "version": "3.12.2"
  }
 },
 "nbformat": 4,
 "nbformat_minor": 5
}
