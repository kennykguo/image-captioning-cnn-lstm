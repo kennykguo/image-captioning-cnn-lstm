{
 "cells": [
  {
   "cell_type": "code",
   "execution_count": 1,
   "id": "51b6ca40-e5dc-46a8-af55-d52eff915b40",
   "metadata": {},
   "outputs": [],
   "source": [
    "import torch\n",
    "import torch.nn.functional as F\n",
    "import matplotlib.pyplot as plt # for making figures\n",
    "%matplotlib inline"
   ]
  },
  {
   "cell_type": "code",
   "execution_count": 2,
   "id": "c5db966f-27da-4d16-b1a3-494f83403277",
   "metadata": {},
   "outputs": [
    {
     "name": "stdout",
     "output_type": "stream",
     "text": [
      "32033\n",
      "15\n",
      "['emma', 'olivia', 'ava', 'isabella', 'sophia', 'charlotte', 'mia', 'amelia']\n"
     ]
    }
   ],
   "source": [
    "# read in all the words\n",
    "words = open('names.txt', 'r').read().splitlines()\n",
    "print(len(words))\n",
    "print(max(len(w) for w in words))\n",
    "print(words[:8])"
   ]
  },
  {
   "cell_type": "code",
   "execution_count": 3,
   "id": "9379c3b2-fe2b-4109-b87e-3c5a0aa84236",
   "metadata": {},
   "outputs": [
    {
     "name": "stdout",
     "output_type": "stream",
     "text": [
      "{1: 'a', 2: 'b', 3: 'c', 4: 'd', 5: 'e', 6: 'f', 7: 'g', 8: 'h', 9: 'i', 10: 'j', 11: 'k', 12: 'l', 13: 'm', 14: 'n', 15: 'o', 16: 'p', 17: 'q', 18: 'r', 19: 's', 20: 't', 21: 'u', 22: 'v', 23: 'w', 24: 'x', 25: 'y', 26: 'z', 0: '.'}\n",
      "27\n"
     ]
    }
   ],
   "source": [
    "# build the vocabulary of characters and mappings to/from integers\n",
    "chars = sorted(list(set(''.join(words))))\n",
    "stoi = {s:i+1 for i,s in enumerate(chars)}\n",
    "stoi['.'] = 0\n",
    "itos = {i:s for s,i in stoi.items()}\n",
    "vocab_size = len(itos)\n",
    "print(itos)\n",
    "print(vocab_size)"
   ]
  },
  {
   "cell_type": "code",
   "execution_count": 4,
   "id": "f2cad501-026d-4b65-bbb5-6a50a073dcfc",
   "metadata": {},
   "outputs": [],
   "source": [
    "import random\n",
    "random.seed(42)\n",
    "random.shuffle(words)"
   ]
  },
  {
   "cell_type": "code",
   "execution_count": 56,
   "id": "7fb1cdf8-1689-4611-9e79-c1b03ab0e1c7",
   "metadata": {},
   "outputs": [
    {
     "name": "stdout",
     "output_type": "stream",
     "text": [
      "torch.Size([182437, 8]) torch.Size([182437])\n",
      "torch.Size([22781, 8]) torch.Size([22781])\n",
      "torch.Size([22928, 8]) torch.Size([22928])\n"
     ]
    }
   ],
   "source": [
    "# build the dataset\n",
    "block_size = 8 # context length: how many characters do we take to predict the next one?\n",
    "\n",
    "def build_dataset(words):\n",
    "  X, Y = [], []\n",
    "\n",
    "  for w in words:\n",
    "    context = [0] * block_size\n",
    "    for ch in w + '.':\n",
    "      ix = stoi[ch]\n",
    "      X.append(context)\n",
    "      Y.append(ix)\n",
    "      context = context[1:] + [ix] # crop and append\n",
    "\n",
    "  X = torch.tensor(X)\n",
    "  Y = torch.tensor(Y)\n",
    "  print(X.shape, Y.shape)\n",
    "  return X, Y\n",
    "\n",
    "import random\n",
    "random.seed(42)\n",
    "random.shuffle(words)\n",
    "n1 = int(0.8*len(words))\n",
    "n2 = int(0.9*len(words))\n",
    "\n",
    "Xtr,  Ytr  = build_dataset(words[:n1])     # 80%\n",
    "Xdev, Ydev = build_dataset(words[n1:n2])   # 10%\n",
    "Xte,  Yte  = build_dataset(words[n2:])     # 10%"
   ]
  },
  {
   "cell_type": "code",
   "execution_count": 57,
   "id": "fa1a489b-6080-4bef-b029-dfbf7b019faf",
   "metadata": {},
   "outputs": [
    {
     "name": "stdout",
     "output_type": "stream",
     "text": [
      "........ --> t\n",
      ".......t --> a\n",
      "......ta --> u\n",
      ".....tau --> r\n",
      "....taur --> e\n",
      "...taure --> n\n",
      "..tauren --> .\n",
      "........ --> s\n",
      ".......s --> u\n",
      "......su --> l\n",
      ".....sul --> e\n",
      "....sule --> m\n",
      "...sulem --> a\n",
      "..sulema --> n\n",
      ".suleman --> .\n",
      "........ --> z\n",
      ".......z --> e\n",
      "......ze --> r\n",
      ".....zer --> e\n",
      "....zere --> n\n"
     ]
    }
   ],
   "source": [
    "for x, y in zip( Xtr[:20], Ytr[:20]):\n",
    "    print(''.join(itos[ix.item()] for ix in x), '-->', itos[y.item()])"
   ]
  },
  {
   "cell_type": "code",
   "execution_count": 172,
   "id": "302336a3-df5a-4f1b-aeee-a54276e446c6",
   "metadata": {},
   "outputs": [],
   "source": [
    "# ----------------------------------------------------------------------------------------------------------------\n",
    "class Linear:\n",
    "    def __init__(self, fan_in, fan_out, bias = True):\n",
    "        self.weight = torch.randn((fan_in, fan_out)) / fan_in ** 0.5\n",
    "        self.bias = torch.zeros(fan_out) if bias else None\n",
    "\n",
    "    def __call__(self, x):\n",
    "        self.out = x @ self.weight\n",
    "        if self.bias is not None:\n",
    "            self.out += self.bias\n",
    "        return self.out\n",
    "    def parameters(self):\n",
    "        return [self.weight] + ([] if self.bias is None else [self.bias])\n",
    "\n",
    "# ----------------------------------------------------------------------------------------------------------------\n",
    "class BatchNorm1d:\n",
    "    def __init__(self, dim, eps = 1e-5, momentum = 0.1):\n",
    "        self.eps = eps # epsilon\n",
    "        self.momentum = momentum\n",
    "        self.training = True\n",
    "        # Parameters trained in backprop\n",
    "        self.gamma = torch.ones(dim)\n",
    "        self.beta = torch.zeros(dim)\n",
    "        # Buffers (trained with a running 'momentum update')\n",
    "        self.running_mean = torch.zeros(dim)\n",
    "        self.running_var = torch.ones(dim)\n",
    "\n",
    "    def __call__(self, x):\n",
    "        # Forward pass\n",
    "        if self.training:\n",
    "            if x.ndim ==2:\n",
    "                dim = 0\n",
    "            elif x.ndim == 3:\n",
    "                dim = (0,1)\n",
    "            xmean = x.mean(0, keepdim = True)\n",
    "            xvar = x.var(0, keepdim = True, unbiased = True)\n",
    "        else:\n",
    "            xmean = self.running_mean\n",
    "            xvar = self.running_var\n",
    "        xhat = (x-xmean) / torch.sqrt(xvar + self.eps) \n",
    "        self.out = self.gamma * xhat + self.beta\n",
    "        # Update our buffers\n",
    "        if self.training:\n",
    "            with torch.no_grad():\n",
    "                self.running_mean = (1-self.momentum) * self.running_mean + self.momentum * xmean\n",
    "                self.running_var = (1-self.momentum) * self.running_var + self.momentum * xvar\n",
    "        return self.out\n",
    "\n",
    "    def parameters(self):\n",
    "        return [self.gamma, self.beta]\n",
    "\n",
    "# ----------------------------------------------------------------------------------------------------------------\n",
    "\n",
    "class Tanh:\n",
    "  def __call__(self, x):\n",
    "    self.out = torch.tanh(x)\n",
    "    return self.out\n",
    "  def parameters(self):\n",
    "    return []\n",
    "\n",
    "# ----------------------------------------------------------------------------------------------------------------\n",
    "\n",
    "class Embedding:\n",
    "    def __init__(self, num_embeddings, embeddings_dim):\n",
    "        self.weight = torch.randn((num_embeddings, embeddings_dim));\n",
    "    def __call__(self, IX):\n",
    "        self.out = self.weight[IX]\n",
    "        return self.out\n",
    "    def parameters(self):\n",
    "        return [self.weight]\n",
    "\n",
    "# ----------------------------------------------------------------------------------------------------------------\n",
    "\n",
    "class FlattenConsecutive:\n",
    "    def __init__(self, n):\n",
    "        self.n = n\n",
    "        \n",
    "    def __call__(self, x):\n",
    "        B, T, C = x.shape\n",
    "        x = x.view(B, T//self.n, C*self.n)\n",
    "        if x.shape[1] == 1:\n",
    "            x = x.squeeze(1)\n",
    "        self.out = x\n",
    "        return self.out\n",
    "    def parameters(self):\n",
    "        return []\n",
    "\n",
    "# ----------------------------------------------------------------------------------------------------------------\n",
    "\n",
    "class Sequential:\n",
    "    def __init__(self, layers):\n",
    "        self.layers = layers\n",
    "    def __call__(self, x):\n",
    "        for layer in self.layers:\n",
    "            x = layer(x)\n",
    "        self.out = x\n",
    "        return self.out\n",
    "    def parameters(self):\n",
    "        # Get all parameters and put them in a list\n",
    "        return [p for layer in self.layers for p in layer.parameters()]"
   ]
  },
  {
   "cell_type": "code",
   "execution_count": 173,
   "id": "5cf3c2a3-da35-4ff0-95aa-908e7498e4da",
   "metadata": {},
   "outputs": [],
   "source": [
    "torch.manual_seed(42);"
   ]
  },
  {
   "cell_type": "code",
   "execution_count": 223,
   "id": "8fa63176-2485-4d50-bc78-12c95f61ceee",
   "metadata": {},
   "outputs": [
    {
     "name": "stdout",
     "output_type": "stream",
     "text": [
      "76579\n"
     ]
    }
   ],
   "source": [
    "n_embd = 24 # the dimensionality of the character embedding vectors\n",
    "n_hidden = 128 # the number of neurons in the hidden layer of the MLP\n",
    "\n",
    "model = Sequential([\n",
    "    Embedding(vocab_size, n_embd),\n",
    "    FlattenConsecutive(2), Linear(n_embd * 2, n_hidden, bias=False), BatchNorm1d(n_hidden), Tanh(),\n",
    "    FlattenConsecutive(2), Linear(n_hidden * 2, n_hidden, bias=False), BatchNorm1d(n_hidden), Tanh(),\n",
    "    FlattenConsecutive(2), Linear(n_hidden * 2, n_hidden, bias=False), BatchNorm1d(n_hidden), Tanh(),\n",
    "    Linear(n_hidden, vocab_size),\n",
    "])\n",
    "\n",
    "# Initalize parameters\n",
    "with torch.no_grad():\n",
    "  layers[-1].weight *= 0.1\n",
    "\n",
    "parameters = model.parameters()\n",
    "print(sum(p.nelement() for p in parameters)) # number of parameters in total\n",
    "for p in parameters:\n",
    "  p.requires_grad = True"
   ]
  },
  {
   "cell_type": "code",
   "execution_count": 147,
   "id": "c0c70430-ea76-496b-8f99-54038bb58e20",
   "metadata": {},
   "outputs": [],
   "source": [
    "# ix = torch.randint(0, Xtr.shape[0], (4,))\n",
    "# Xb, Yb = Xtr[ix], Ytr[ix]\n",
    "# logits = model(Xb)\n",
    "# print(Xb.shape)\n",
    "# Xb"
   ]
  },
  {
   "cell_type": "code",
   "execution_count": 148,
   "id": "b952aaa7-6617-42f3-b7e5-c0f7687b0af7",
   "metadata": {},
   "outputs": [],
   "source": [
    "# logits.shape"
   ]
  },
  {
   "cell_type": "code",
   "execution_count": 150,
   "id": "e6c6de7d-c126-4cdf-97ab-f96f1982847f",
   "metadata": {},
   "outputs": [],
   "source": [
    "# model.layers[0].out.shape"
   ]
  },
  {
   "cell_type": "code",
   "execution_count": 149,
   "id": "f1935655-8eef-47ab-b93c-5db138fa25cd",
   "metadata": {},
   "outputs": [],
   "source": [
    "# model.layers[1].out.shape # Concatenated vectors"
   ]
  },
  {
   "cell_type": "code",
   "execution_count": 151,
   "id": "85b7a444-eee7-4b22-b4a9-0e500db216d9",
   "metadata": {},
   "outputs": [],
   "source": [
    "# model.layers[2].out.shape"
   ]
  },
  {
   "cell_type": "code",
   "execution_count": 153,
   "id": "dc0f678c-f6fd-4b4c-ba2f-50c10a95e72d",
   "metadata": {},
   "outputs": [],
   "source": [
    "# (torch.randn(4, 4, 20) @ torch.randn(20, 200) + torch.randn(200)).shape\n",
    "# # Mat mul works on the last dimension\n",
    "# # Dimensions on the left are treated as a batch dimension\n",
    "# # "
   ]
  },
  {
   "cell_type": "code",
   "execution_count": 152,
   "id": "71a478d6-4ea9-4e51-8b1e-be000559ba96",
   "metadata": {},
   "outputs": [],
   "source": [
    "# e = torch.randn(4, 8, 10) # Want this to be a (4,4,20) Conseqective 10-d vectors get concatenated\n",
    "# e.view(4, -1).shape\n",
    "# explicit = torch.cat([e[:,::2,:], e[:, 1::2,:]], dim = 2) # Concatenate, even and odd right next to eachother\n",
    "# explicit.shape"
   ]
  },
  {
   "cell_type": "code",
   "execution_count": 154,
   "id": "7671a55b-2349-4386-ab97-2f2a6be3f470",
   "metadata": {},
   "outputs": [],
   "source": [
    "# (e.view((4,4,20)) == explicit).all()"
   ]
  },
  {
   "cell_type": "code",
   "execution_count": null,
   "id": "deae847c-55dd-4696-a4fc-93ee58b4c90a",
   "metadata": {},
   "outputs": [],
   "source": [
    "# (1 2) (3 4) (5 6) (7 8) # Batch dimension for our smaller samples"
   ]
  },
  {
   "cell_type": "code",
   "execution_count": 175,
   "id": "fe728759-7a53-473e-9b46-9e8e3f9ce837",
   "metadata": {},
   "outputs": [
    {
     "data": {
      "text/plain": [
       "torch.Size([1, 1, 68])"
      ]
     },
     "execution_count": 175,
     "metadata": {},
     "output_type": "execute_result"
    }
   ],
   "source": [
    "e = torch.randn(32, 4, 68)\n",
    "emean = e.mean((0,1), keepdim = True) # 1, 1, 68\n",
    "evar = e.var((0,1), keepdim  = True) # 1, 1, 68\n",
    "ehat = (e- emean) / torch.sqrt(evar + 1e-5) # 32, 4, 68\n",
    "emean.shape"
   ]
  },
  {
   "cell_type": "code",
   "execution_count": 224,
   "id": "3e106a3c-d9e5-4085-9af7-c2459dedc405",
   "metadata": {},
   "outputs": [
    {
     "name": "stdout",
     "output_type": "stream",
     "text": [
      "      0/ 200000: 3.5561\n",
      "  10000/ 200000: 2.3899\n",
      "  20000/ 200000: 2.2987\n",
      "  30000/ 200000: 1.9821\n",
      "  40000/ 200000: 2.5059\n",
      "  50000/ 200000: 1.8974\n",
      "  60000/ 200000: 1.3897\n",
      "  70000/ 200000: 1.9845\n",
      "  80000/ 200000: 1.9302\n",
      "  90000/ 200000: 2.0810\n",
      " 100000/ 200000: 2.0436\n",
      " 110000/ 200000: 2.1252\n",
      " 120000/ 200000: 1.8494\n",
      " 130000/ 200000: 1.8863\n",
      " 140000/ 200000: 1.4959\n",
      " 150000/ 200000: 1.8105\n",
      " 160000/ 200000: 1.6522\n",
      " 170000/ 200000: 1.6482\n",
      " 180000/ 200000: 1.9182\n",
      " 190000/ 200000: 1.6296\n"
     ]
    }
   ],
   "source": [
    "# same optimization as last time\n",
    "max_steps = 200000\n",
    "batch_size = 32\n",
    "lossi = []\n",
    "ud = []\n",
    "\n",
    "for i in range(max_steps):\n",
    "  \n",
    "    # minibatch construct\n",
    "    ix = torch.randint(0, Xtr.shape[0], (batch_size,))\n",
    "    Xb, Yb = Xtr[ix], Ytr[ix] # batch X,Y\n",
    "    \n",
    "    # forward pass\n",
    "    logits = model(Xb)\n",
    "    loss = F.cross_entropy(logits, Yb) # loss function\n",
    "    \n",
    "    # backward pass\n",
    "    for p in parameters:\n",
    "        p.grad = None\n",
    "    loss.backward()\n",
    "    \n",
    "    # update\n",
    "    lr = 0.1 if i < 150000 else 0.01 # step learning rate decay\n",
    "    for p in parameters:\n",
    "        p.data += -lr * p.grad\n",
    "\n",
    "    # track stats\n",
    "    if i % 10000 == 0: # print every once in a while\n",
    "        print(f'{i:7d}/{max_steps:7d}: {loss.item():.4f}')\n",
    "    lossi.append(loss.log10().item())\n",
    "    # break"
   ]
  },
  {
   "cell_type": "code",
   "execution_count": 48,
   "id": "ca2dfdc2-6d4e-4a44-a2e9-e3f552021a62",
   "metadata": {},
   "outputs": [],
   "source": [
    "# torch.tensor(lossi).view(-1, 1000).mean(1).shape\n",
    "# plt.plot(torch.tensor(lossi).view(-1,100).mean(1))"
   ]
  },
  {
   "cell_type": "code",
   "execution_count": 49,
   "id": "378d0e0a-0b2b-4b0d-9cb6-4939430583e5",
   "metadata": {},
   "outputs": [
    {
     "data": {
      "text/plain": [
       "tensor([[0, 1],\n",
       "        [2, 3],\n",
       "        [4, 5],\n",
       "        [6, 7],\n",
       "        [8, 9]])"
      ]
     },
     "execution_count": 49,
     "metadata": {},
     "output_type": "execute_result"
    }
   ],
   "source": [
    "torch.arange(10).view(-1,2)\n",
    "# Inferring in PyTorch"
   ]
  },
  {
   "cell_type": "code",
   "execution_count": 225,
   "id": "62e682bb-9f04-4023-8c14-a141f12a3854",
   "metadata": {},
   "outputs": [],
   "source": [
    "# Put all layers into eval mode\n",
    "for layer in model.layers:\n",
    "    layer.training = False"
   ]
  },
  {
   "cell_type": "code",
   "execution_count": 226,
   "id": "e3d39141-e67a-47af-ac72-4d4783d0fb19",
   "metadata": {},
   "outputs": [
    {
     "name": "stdout",
     "output_type": "stream",
     "text": [
      "train 1.8047152757644653\n",
      "val 1.9877430200576782\n"
     ]
    }
   ],
   "source": [
    "# Evaluate the loss\n",
    "@torch.no_grad() # this decorator disables gradient tracking\n",
    "def split_loss(split):\n",
    "    x,y = {\n",
    "    'train': (Xtr, Ytr),\n",
    "    'val': (Xdev, Ydev),\n",
    "    'test': (Xte, Yte),\n",
    "    }[split]\n",
    "    logits = model(x)\n",
    "    loss = F.cross_entropy(logits, y)\n",
    "    print(split, loss.item())\n",
    "\n",
    "split_loss('train')\n",
    "split_loss('val')"
   ]
  },
  {
   "cell_type": "code",
   "execution_count": 232,
   "id": "30039a98-e7c4-464e-aaeb-1c676e881a48",
   "metadata": {},
   "outputs": [
    {
     "name": "stdout",
     "output_type": "stream",
     "text": [
      "dailon.\n",
      "teran.\n",
      "jaiyah.\n",
      "abdielah.\n",
      "arriugh.\n",
      "rosalin.\n",
      "moasi.\n",
      "hennli.\n",
      "cordin.\n",
      "madel.\n",
      "kabell.\n",
      "chapp.\n",
      "jurneish.\n",
      "emmelys.\n",
      "arly.\n",
      "shamya.\n",
      "jeremmonluz.\n",
      "aniah.\n",
      "evelia.\n",
      "shasya.\n"
     ]
    }
   ],
   "source": [
    "# sample from the model\n",
    "\n",
    "for _ in range(20):\n",
    "    \n",
    "    out = []\n",
    "    context = [0] * block_size # initialize with all ...\n",
    "    while True:\n",
    "        # forward pass the neural net\n",
    "        logits = model(torch.tensor([context]))\n",
    "        probs = F.softmax(logits, dim=1)\n",
    "        # sample from the distribution\n",
    "        ix = torch.multinomial(probs, num_samples=1).item()\n",
    "        # shift the context window and track the samples\n",
    "        context = context[1:] + [ix]\n",
    "        out.append(ix)\n",
    "        # if we sample the special '.' token, break\n",
    "        if ix == 0:\n",
    "            break\n",
    "    print(''.join(itos[i] for i in out)) # decode and print the generated word"
   ]
  }
 ],
 "metadata": {
  "kernelspec": {
   "display_name": "Python 3 (ipykernel)",
   "language": "python",
   "name": "python3"
  },
  "language_info": {
   "codemirror_mode": {
    "name": "ipython",
    "version": 3
   },
   "file_extension": ".py",
   "mimetype": "text/x-python",
   "name": "python",
   "nbconvert_exporter": "python",
   "pygments_lexer": "ipython3",
   "version": "3.12.2"
  }
 },
 "nbformat": 4,
 "nbformat_minor": 5
}
